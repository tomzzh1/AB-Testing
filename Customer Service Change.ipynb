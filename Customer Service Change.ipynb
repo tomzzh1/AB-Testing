{
 "cells": [
  {
   "cell_type": "code",
   "execution_count": 1,
   "metadata": {},
   "outputs": [],
   "source": [
    "import pandas as pd\n",
    "import seaborn as sns\n",
    "import numpy as np\n",
    "import matplotlib.pyplot as plt\n",
    "\n",
    "import time\n",
    "import datetime \n",
    "import random\n",
    "from scipy import stats\n",
    "\n",
    "\n",
    "from IPython import display"
   ]
  },
  {
   "cell_type": "code",
   "execution_count": 2,
   "metadata": {},
   "outputs": [
    {
     "data": {
      "image/png": "[encoded data removed]",
      "text/plain": [
       "<IPython.core.display.Image object>"
      ]
     },
     "execution_count": 2,
     "metadata": {
      "image/png": {
       "height": 600,
       "width": 600
      }
     },
     "output_type": "execute_result"
    }
   ],
   "source": [
    "display.Image(\"AB Test Image.png\",width=600, height=600)"
   ]
  },
  {
   "cell_type": "markdown",
   "metadata": {},
   "source": [
    "**An online e-commerce company has a robust customer service operation. We decided to run a test on our website where we removed 1-800(toll-free) customer service number for half of our website.**\n",
    "\n",
    "> Define Goal:\n",
    "\n",
    ">> The impact of removing customer service number from the website.\n",
    "\n",
    "> Identify Metric:\n",
    "\n",
    ">> Average Resolution time | First contact Resolution\n",
    "\n",
    "> Develop Hypothesis:\n",
    "\n",
    ">> The alternative methods will drive up the customer service concerned metrics.\n",
    "\n",
    "> Set up the experiemnt:\n",
    "\n",
    ">> set up the homepage by adding the alternative customer service method. we randomly separate users to treatment and control. The unit of analysis is user. This will ensure that consistent user experience to users. This will ensure that our experiment is trustworthy and independent assumption is not violated.\n",
    "\n",
    ">> Before the actual experiment conduct, we will run the AA test to ensure the experiment is setup properly.\n",
    "\n",
    "> Run the Experiment\n",
    "\n",
    ">> Once the engineer implemented the changes and randomly assigned the users. Let the experiment run for a week. collect the consumer data and prepare the analysis.\n",
    "\n",
    "> Analyze the result\n",
    "\n",
    ">> Conduct T-Test and analyze the result. Since the simulated the data. we should be conculde that treatment will increase the conversion rate from home page to product page."
   ]
  },
  {
   "cell_type": "code",
   "execution_count": 3,
   "metadata": {},
   "outputs": [],
   "source": [
    "d = ['New Product or Feature Request', \n",
    "     'Lack of Follow Up',\n",
    "     'The Customer Service Rep Was Not Professional', \n",
    "     'The Staff Couldn’t Do Much To Help Me',\n",
    "     'I Was Unable To Talk To A Human',\n",
    "     'I Keep Getting Transferred/Disconnected',\n",
    "     'They Didn’t Respond To My Problem On Social Media']\n",
    "\n",
    "current = datetime.datetime.strptime(time.ctime(), \"%a %b %d %H:%M:%S %Y\")\n",
    "\n",
    "AA = pd.DataFrame(columns=['timestamp', 'userid',  'test', 'Queue Time','answer', 'category', 'resolution time'])\n",
    "AB = pd.DataFrame(columns=['timestamp', 'userid',  'test', 'Queue Time','answer', 'category', 'resolution time'])"
   ]
  },
  {
   "cell_type": "code",
   "execution_count": 4,
   "metadata": {},
   "outputs": [],
   "source": [
    "p_control = 0.02\n",
    "\n",
    "\n",
    "for i in range(0, 20000):\n",
    "    \n",
    "    timestamp = current -  datetime.timedelta(days = random.randint(a=7, b=14),\n",
    "                                              hours = random.randrange(12),\n",
    "                                              minutes = random.randrange(30))\n",
    "    \n",
    "    userid = 'userid '+ str(random.randint(1, 500000)) \n",
    "    \n",
    "    item_cat = random.choice(d)\n",
    "    \n",
    "    mean_uniform = random.randint(a=30,b=100)\n",
    "    \n",
    "    std_uniform = random.randint(a=15, b=30)\n",
    "    \n",
    "    queue = round(np.random.normal(mean_uniform, std_uniform),2)\n",
    "        \n",
    "    test = 1 if np.random.uniform() > 0.5 else 0\n",
    "\n",
    "    temp = [timestamp.strftime(\"%b %d %Y - %H:%M:%S\"), userid, test, queue]\n",
    "\n",
    "    resolute = round(np.random.normal(mean_uniform, std_uniform),2)\n",
    "    \n",
    "    if test == 1:\n",
    "        click = 1 if np.random.uniform() < p_control else 0\n",
    "        temp.append(click)\n",
    "        if click == 1:\n",
    "            temp.append(item_cat)\n",
    "            temp.append(resolute)\n",
    "        else: \n",
    "            temp.append('NA')\n",
    "            temp.append(0)\n",
    "\n",
    "    \n",
    "    elif test == 0: \n",
    "        if timestamp > current - datetime.timedelta(days = 8) and timestamp < current - datetime.timedelta(days = 11):\n",
    "            click = 1 if np.random.uniform() < p_control+ 0.2 else 0\n",
    "            temp.append(click)\n",
    "            if click == 1:\n",
    "                temp.append(item_cat)\n",
    "                temp.append(resolute)\n",
    "            else: \n",
    "                temp.append('NA')\n",
    "                temp.append(0)\n",
    "            \n",
    "            \n",
    "        else:\n",
    "            click = 1 if np.random.uniform() < p_control else 0\n",
    "            temp.append(click)\n",
    "            \n",
    "            if click == 1:\n",
    "                temp.append(item_cat)\n",
    "                temp.append(resolute)\n",
    "            else: \n",
    "                temp.append('NA')\n",
    "                temp.append(0)\n",
    "\n",
    "            \n",
    "        \n",
    "    AA.loc[len(AA)] = temp"
   ]
  },
  {
   "cell_type": "code",
   "execution_count": 5,
   "metadata": {},
   "outputs": [],
   "source": [
    "AA['answer'] = pd.to_numeric(AA['answer'])\n",
    "AA['resolution time'] = pd.to_numeric(AA['resolution time'])\n"
   ]
  },
  {
   "cell_type": "code",
   "execution_count": 6,
   "metadata": {},
   "outputs": [],
   "source": [
    "test = AA.loc[AA.test == 1]\n",
    "control = AA.loc[AA.test == 0]\n",
    "\n",
    "test_agg = test.groupby('userid') \\\n",
    "       .agg({'answer':'mean'}).reset_index()\n",
    "\n",
    "control_agg  = control.groupby('userid') \\\n",
    "       .agg({'answer':'mean'}).reset_index()"
   ]
  },
  {
   "cell_type": "code",
   "execution_count": 7,
   "metadata": {},
   "outputs": [
    {
     "data": {
      "text/html": [
       "<div>\n",
       "<style scoped>\n",
       "    .dataframe tbody tr th:only-of-type {\n",
       "        vertical-align: middle;\n",
       "    }\n",
       "\n",
       "    .dataframe tbody tr th {\n",
       "        vertical-align: top;\n",
       "    }\n",
       "\n",
       "    .dataframe thead th {\n",
       "        text-align: right;\n",
       "    }\n",
       "</style>\n",
       "<table border=\"1\" class=\"dataframe\">\n",
       "  <thead>\n",
       "    <tr style=\"text-align: right;\">\n",
       "      <th></th>\n",
       "      <th>userid</th>\n",
       "      <th>answer</th>\n",
       "    </tr>\n",
       "  </thead>\n",
       "  <tbody>\n",
       "    <tr>\n",
       "      <th>0</th>\n",
       "      <td>userid 100036</td>\n",
       "      <td>1.0</td>\n",
       "    </tr>\n",
       "    <tr>\n",
       "      <th>1</th>\n",
       "      <td>userid 100065</td>\n",
       "      <td>0.0</td>\n",
       "    </tr>\n",
       "    <tr>\n",
       "      <th>2</th>\n",
       "      <td>userid 100068</td>\n",
       "      <td>0.0</td>\n",
       "    </tr>\n",
       "    <tr>\n",
       "      <th>3</th>\n",
       "      <td>userid 100082</td>\n",
       "      <td>0.0</td>\n",
       "    </tr>\n",
       "    <tr>\n",
       "      <th>4</th>\n",
       "      <td>userid 100085</td>\n",
       "      <td>0.0</td>\n",
       "    </tr>\n",
       "  </tbody>\n",
       "</table>\n",
       "</div>"
      ],
      "text/plain": [
       "          userid  answer\n",
       "0  userid 100036     1.0\n",
       "1  userid 100065     0.0\n",
       "2  userid 100068     0.0\n",
       "3  userid 100082     0.0\n",
       "4  userid 100085     0.0"
      ]
     },
     "execution_count": 7,
     "metadata": {},
     "output_type": "execute_result"
    }
   ],
   "source": [
    "test_agg.head()"
   ]
  },
  {
   "cell_type": "code",
   "execution_count": 8,
   "metadata": {},
   "outputs": [
    {
     "data": {
      "text/html": [
       "<div>\n",
       "<style scoped>\n",
       "    .dataframe tbody tr th:only-of-type {\n",
       "        vertical-align: middle;\n",
       "    }\n",
       "\n",
       "    .dataframe tbody tr th {\n",
       "        vertical-align: top;\n",
       "    }\n",
       "\n",
       "    .dataframe thead th {\n",
       "        text-align: right;\n",
       "    }\n",
       "</style>\n",
       "<table border=\"1\" class=\"dataframe\">\n",
       "  <thead>\n",
       "    <tr style=\"text-align: right;\">\n",
       "      <th></th>\n",
       "      <th>userid</th>\n",
       "      <th>answer</th>\n",
       "    </tr>\n",
       "  </thead>\n",
       "  <tbody>\n",
       "    <tr>\n",
       "      <th>0</th>\n",
       "      <td>userid 100124</td>\n",
       "      <td>0.0</td>\n",
       "    </tr>\n",
       "    <tr>\n",
       "      <th>1</th>\n",
       "      <td>userid 100140</td>\n",
       "      <td>0.0</td>\n",
       "    </tr>\n",
       "    <tr>\n",
       "      <th>2</th>\n",
       "      <td>userid 100196</td>\n",
       "      <td>0.0</td>\n",
       "    </tr>\n",
       "    <tr>\n",
       "      <th>3</th>\n",
       "      <td>userid 100212</td>\n",
       "      <td>0.0</td>\n",
       "    </tr>\n",
       "    <tr>\n",
       "      <th>4</th>\n",
       "      <td>userid 100218</td>\n",
       "      <td>0.0</td>\n",
       "    </tr>\n",
       "  </tbody>\n",
       "</table>\n",
       "</div>"
      ],
      "text/plain": [
       "          userid  answer\n",
       "0  userid 100124     0.0\n",
       "1  userid 100140     0.0\n",
       "2  userid 100196     0.0\n",
       "3  userid 100212     0.0\n",
       "4  userid 100218     0.0"
      ]
     },
     "execution_count": 8,
     "metadata": {},
     "output_type": "execute_result"
    }
   ],
   "source": [
    "control_agg.head()"
   ]
  },
  {
   "cell_type": "code",
   "execution_count": 9,
   "metadata": {},
   "outputs": [
    {
     "name": "stdout",
     "output_type": "stream",
     "text": [
      "The observable difference is 0.00019044031474970552 \n",
      "\n",
      "t = 0.09420988760467369\n",
      "p = 0.9249433841508831\n"
     ]
    }
   ],
   "source": [
    "\n",
    "cal_diff = test_agg['answer'].mean() - control_agg['answer'].mean()\n",
    "print('The observable difference is',cal_diff, '\\n')\n",
    "t2, p2 = stats.ttest_ind(test_agg['answer'],control_agg['answer'])\n",
    "print(\"t = \" + str(t2))\n",
    "print(\"p = \" + str(p2))"
   ]
  },
  {
   "cell_type": "code",
   "execution_count": 10,
   "metadata": {},
   "outputs": [
    {
     "data": {
      "text/html": [
       "<div>\n",
       "<style scoped>\n",
       "    .dataframe tbody tr th:only-of-type {\n",
       "        vertical-align: middle;\n",
       "    }\n",
       "\n",
       "    .dataframe tbody tr th {\n",
       "        vertical-align: top;\n",
       "    }\n",
       "\n",
       "    .dataframe thead th {\n",
       "        text-align: right;\n",
       "    }\n",
       "</style>\n",
       "<table border=\"1\" class=\"dataframe\">\n",
       "  <thead>\n",
       "    <tr style=\"text-align: right;\">\n",
       "      <th>test</th>\n",
       "      <th>Weekday</th>\n",
       "      <th>0</th>\n",
       "      <th>1</th>\n",
       "      <th>difference</th>\n",
       "    </tr>\n",
       "  </thead>\n",
       "  <tbody>\n",
       "    <tr>\n",
       "      <th>0</th>\n",
       "      <td>Friday</td>\n",
       "      <td>0.020850</td>\n",
       "      <td>0.016074</td>\n",
       "      <td>0.004776</td>\n",
       "    </tr>\n",
       "    <tr>\n",
       "      <th>1</th>\n",
       "      <td>Monday</td>\n",
       "      <td>0.015504</td>\n",
       "      <td>0.019685</td>\n",
       "      <td>0.004181</td>\n",
       "    </tr>\n",
       "    <tr>\n",
       "      <th>2</th>\n",
       "      <td>Saturday</td>\n",
       "      <td>0.019328</td>\n",
       "      <td>0.028414</td>\n",
       "      <td>0.009086</td>\n",
       "    </tr>\n",
       "    <tr>\n",
       "      <th>3</th>\n",
       "      <td>Sunday</td>\n",
       "      <td>0.021611</td>\n",
       "      <td>0.021686</td>\n",
       "      <td>0.000075</td>\n",
       "    </tr>\n",
       "    <tr>\n",
       "      <th>4</th>\n",
       "      <td>Thursday</td>\n",
       "      <td>0.023847</td>\n",
       "      <td>0.021395</td>\n",
       "      <td>0.002453</td>\n",
       "    </tr>\n",
       "    <tr>\n",
       "      <th>5</th>\n",
       "      <td>Tuesday</td>\n",
       "      <td>0.020032</td>\n",
       "      <td>0.019512</td>\n",
       "      <td>0.000520</td>\n",
       "    </tr>\n",
       "    <tr>\n",
       "      <th>6</th>\n",
       "      <td>Wednesday</td>\n",
       "      <td>0.021961</td>\n",
       "      <td>0.017802</td>\n",
       "      <td>0.004159</td>\n",
       "    </tr>\n",
       "  </tbody>\n",
       "</table>\n",
       "</div>"
      ],
      "text/plain": [
       "test    Weekday         0         1  difference\n",
       "0        Friday  0.020850  0.016074    0.004776\n",
       "1        Monday  0.015504  0.019685    0.004181\n",
       "2      Saturday  0.019328  0.028414    0.009086\n",
       "3        Sunday  0.021611  0.021686    0.000075\n",
       "4      Thursday  0.023847  0.021395    0.002453\n",
       "5       Tuesday  0.020032  0.019512    0.000520\n",
       "6     Wednesday  0.021961  0.017802    0.004159"
      ]
     },
     "execution_count": 10,
     "metadata": {},
     "output_type": "execute_result"
    }
   ],
   "source": [
    "AA['Weekday'] = [datetime.datetime.strptime(x, \"%b %d %Y - %H:%M:%S\").strftime('%A') \\\n",
    "                for x in AA['timestamp']]\n",
    "\n",
    "temp = AA.groupby(['test', 'Weekday']) \\\n",
    "       .agg({'answer':'mean'}).reset_index()\n",
    "\n",
    "temp_agg = temp.pivot(index='Weekday', columns='test', values='answer').reset_index()\n",
    "temp_agg['difference'] = np.absolute(temp_agg[1] -temp_agg[0])\n",
    "temp_agg"
   ]
  },
  {
   "cell_type": "code",
   "execution_count": null,
   "metadata": {},
   "outputs": [],
   "source": []
  },
  {
   "cell_type": "code",
   "execution_count": 11,
   "metadata": {},
   "outputs": [
    {
     "data": {
      "image/png": "[encoded data removed]",
      "text/plain": [
       "<Figure size 720x576 with 1 Axes>"
      ]
     },
     "metadata": {
      "needs_background": "light"
     },
     "output_type": "display_data"
    }
   ],
   "source": [
    "temp['Weekday'] = pd.Categorical(temp['Weekday'], categories=\n",
    "    ['Monday','Tuesday','Wednesday','Thursday','Friday','Saturday', 'Sunday'],\n",
    "    ordered=True)\n",
    "\n",
    "plt.figure(figsize=(10,8))\n",
    "plt.title('Click rate by Weekday')\n",
    "sns.barplot(x=\"Weekday\", y=\"answer\", hue=\"test\", data=temp)\n",
    "plt.show()"
   ]
  },
  {
   "cell_type": "code",
   "execution_count": 12,
   "metadata": {},
   "outputs": [],
   "source": [
    "y = temp_agg['Weekday'][np.argmax(temp_agg['difference'])]\n",
    "\n",
    "temp = AA.loc[[x in [y] for x in AA.Weekday]]\n",
    "\n",
    "test = temp.loc[temp.test == 1]\n",
    "control = temp.loc[temp.test == 0]\n",
    "\n",
    "test_agg = test.groupby('userid') \\\n",
    "       .agg({'answer':'mean'}).reset_index()\n",
    "\n",
    "control_agg  = control.groupby('userid') \\\n",
    "       .agg({'answer':'mean'}).reset_index()"
   ]
  },
  {
   "cell_type": "code",
   "execution_count": 13,
   "metadata": {},
   "outputs": [
    {
     "name": "stdout",
     "output_type": "stream",
     "text": [
      "The observable difference is 0.009108287864908995 \n",
      "\n",
      "t = 1.4733174362040564\n",
      "p = 0.1407937122908218\n"
     ]
    }
   ],
   "source": [
    "\n",
    "cal_diff = test_agg['answer'].mean() - control_agg['answer'].mean()\n",
    "print('The observable difference is',cal_diff, '\\n')\n",
    "t2, p2 = stats.ttest_ind(test_agg['answer'],control_agg['answer'])\n",
    "print(\"t = \" + str(t2))\n",
    "print(\"p = \" + str(p2))"
   ]
  },
  {
   "cell_type": "markdown",
   "metadata": {},
   "source": [
    "In the AA test, it is clear that the difference is not statistically significant. However, it we look at Saturday performance, it is obvious that the concerned metric shows abnormal. we should further investigate. Is there an error or not?"
   ]
  },
  {
   "cell_type": "code",
   "execution_count": 14,
   "metadata": {},
   "outputs": [],
   "source": [
    "p_control = 0.02\n",
    "p_test = 0.04\n",
    "\n",
    "\n",
    "for i in range(0, 20000):\n",
    "    \n",
    "    timestamp = current -  datetime.timedelta(days = random.randrange(7),\n",
    "                                              hours = random.randrange(12),\n",
    "                                              minutes = random.randrange(30))\n",
    "    \n",
    "    userid = 'userid '+ str(random.randint(1, 500000)) \n",
    "    \n",
    "    item_cat = random.choice(d)\n",
    "    \n",
    "    mean_uniform = random.randint(a=30,b=100)\n",
    "    \n",
    "    std_uniform = random.randint(a=15, b=30)\n",
    "    \n",
    "    queue = round(np.random.normal(mean_uniform, std_uniform),2)\n",
    "        \n",
    "    test = 1 if np.random.uniform() > 0.5 else 0\n",
    "\n",
    "    temp = [timestamp.strftime(\"%b %d %Y - %H:%M:%S\"), userid, test, queue]\n",
    "\n",
    "    resolute = round(np.random.normal(mean_uniform, std_uniform),2)\n",
    "    \n",
    "    if test == 1:\n",
    "        click = 1 if np.random.uniform() < p_control else 0\n",
    "        temp.append(click)\n",
    "        if click == 1:\n",
    "            temp.append(item_cat)\n",
    "            temp.append(resolute)\n",
    "        else: \n",
    "            temp.append('NA')\n",
    "            temp.append(0)\n",
    "\n",
    "    \n",
    "    elif test == 0: \n",
    "        click = 1 if np.random.uniform() < p_test else 0\n",
    "        temp.append(click)\n",
    "        if click == 1:\n",
    "            temp.append(item_cat)\n",
    "            temp.append(resolute)\n",
    "        else: \n",
    "            temp.append('NA')\n",
    "            temp.append(0)\n",
    "            \n",
    "        \n",
    "    AB.loc[len(AB)] = temp\n",
    "    \n",
    "AB['answer'] = pd.to_numeric(AB['answer'])\n",
    "AB['resolution time'] = pd.to_numeric(AB['resolution time'])"
   ]
  },
  {
   "cell_type": "code",
   "execution_count": null,
   "metadata": {},
   "outputs": [],
   "source": []
  },
  {
   "cell_type": "code",
   "execution_count": null,
   "metadata": {},
   "outputs": [],
   "source": []
  },
  {
   "cell_type": "code",
   "execution_count": 15,
   "metadata": {},
   "outputs": [],
   "source": [
    "test = AB.loc[AB.test == 1]\n",
    "control = AB.loc[AB.test == 0]\n",
    "\n",
    "test_agg = test.groupby('userid') \\\n",
    "       .agg({'answer':'mean'}).reset_index()\n",
    "\n",
    "control_agg  = control.groupby('userid') \\\n",
    "       .agg({'answer':'mean'}).reset_index()"
   ]
  },
  {
   "cell_type": "code",
   "execution_count": 16,
   "metadata": {},
   "outputs": [
    {
     "name": "stdout",
     "output_type": "stream",
     "text": [
      "The observable difference is -0.017515230701881556 \n",
      "\n",
      "t = -7.372141243711907\n",
      "p = 1.7451255954878396e-13\n"
     ]
    }
   ],
   "source": [
    "\n",
    "cal_diff = test_agg['answer'].mean() - control_agg['answer'].mean()\n",
    "print('The observable difference is',cal_diff, '\\n')\n",
    "t2, p2 = stats.ttest_ind(test_agg['answer'],control_agg['answer'])\n",
    "print(\"t = \" + str(t2))\n",
    "print(\"p = \" + str(p2))"
   ]
  },
  {
   "cell_type": "code",
   "execution_count": 17,
   "metadata": {},
   "outputs": [
    {
     "data": {
      "text/html": [
       "<div>\n",
       "<style scoped>\n",
       "    .dataframe tbody tr th:only-of-type {\n",
       "        vertical-align: middle;\n",
       "    }\n",
       "\n",
       "    .dataframe tbody tr th {\n",
       "        vertical-align: top;\n",
       "    }\n",
       "\n",
       "    .dataframe thead th {\n",
       "        text-align: right;\n",
       "    }\n",
       "</style>\n",
       "<table border=\"1\" class=\"dataframe\">\n",
       "  <thead>\n",
       "    <tr style=\"text-align: right;\">\n",
       "      <th>test</th>\n",
       "      <th>Weekday</th>\n",
       "      <th>0</th>\n",
       "      <th>1</th>\n",
       "      <th>difference</th>\n",
       "    </tr>\n",
       "  </thead>\n",
       "  <tbody>\n",
       "    <tr>\n",
       "      <th>0</th>\n",
       "      <td>Friday</td>\n",
       "      <td>0.035486</td>\n",
       "      <td>0.023464</td>\n",
       "      <td>0.012022</td>\n",
       "    </tr>\n",
       "    <tr>\n",
       "      <th>1</th>\n",
       "      <td>Monday</td>\n",
       "      <td>0.034290</td>\n",
       "      <td>0.022378</td>\n",
       "      <td>0.011912</td>\n",
       "    </tr>\n",
       "    <tr>\n",
       "      <th>2</th>\n",
       "      <td>Saturday</td>\n",
       "      <td>0.050283</td>\n",
       "      <td>0.018144</td>\n",
       "      <td>0.032140</td>\n",
       "    </tr>\n",
       "    <tr>\n",
       "      <th>3</th>\n",
       "      <td>Sunday</td>\n",
       "      <td>0.036610</td>\n",
       "      <td>0.018789</td>\n",
       "      <td>0.017821</td>\n",
       "    </tr>\n",
       "    <tr>\n",
       "      <th>4</th>\n",
       "      <td>Thursday</td>\n",
       "      <td>0.036491</td>\n",
       "      <td>0.020129</td>\n",
       "      <td>0.016362</td>\n",
       "    </tr>\n",
       "    <tr>\n",
       "      <th>5</th>\n",
       "      <td>Tuesday</td>\n",
       "      <td>0.032145</td>\n",
       "      <td>0.018659</td>\n",
       "      <td>0.013486</td>\n",
       "    </tr>\n",
       "    <tr>\n",
       "      <th>6</th>\n",
       "      <td>Wednesday</td>\n",
       "      <td>0.038040</td>\n",
       "      <td>0.019795</td>\n",
       "      <td>0.018244</td>\n",
       "    </tr>\n",
       "  </tbody>\n",
       "</table>\n",
       "</div>"
      ],
      "text/plain": [
       "test    Weekday         0         1  difference\n",
       "0        Friday  0.035486  0.023464    0.012022\n",
       "1        Monday  0.034290  0.022378    0.011912\n",
       "2      Saturday  0.050283  0.018144    0.032140\n",
       "3        Sunday  0.036610  0.018789    0.017821\n",
       "4      Thursday  0.036491  0.020129    0.016362\n",
       "5       Tuesday  0.032145  0.018659    0.013486\n",
       "6     Wednesday  0.038040  0.019795    0.018244"
      ]
     },
     "execution_count": 17,
     "metadata": {},
     "output_type": "execute_result"
    }
   ],
   "source": [
    "AB['Weekday'] = [datetime.datetime.strptime(x, \"%b %d %Y - %H:%M:%S\").strftime('%A') \\\n",
    "                for x in AB['timestamp']]\n",
    "\n",
    "temp = AB.groupby(['test', 'Weekday']) \\\n",
    "       .agg({'answer':'mean'}).reset_index()\n",
    "\n",
    "temp_agg = temp.pivot(index='Weekday', columns='test', values='answer').reset_index()\n",
    "temp_agg['difference'] = np.absolute(temp_agg[1] -temp_agg[0])\n",
    "temp_agg"
   ]
  },
  {
   "cell_type": "code",
   "execution_count": 19,
   "metadata": {},
   "outputs": [
    {
     "data": {
      "image/png": "[encoded data removed]",
      "text/plain": [
       "<Figure size 720x576 with 1 Axes>"
      ]
     },
     "metadata": {
      "needs_background": "light"
     },
     "output_type": "display_data"
    }
   ],
   "source": [
    "temp['Weekday'] = pd.Categorical(temp['Weekday'], categories=\n",
    "    ['Monday','Tuesday','Wednesday','Thursday','Friday','Saturday', 'Sunday'],\n",
    "    ordered=True)\n",
    "\n",
    "plt.figure(figsize=(10,8))\n",
    "plt.title('Click rate by Weekday')\n",
    "sns.barplot(x=\"Weekday\", y=\"answer\", hue=\"test\", data=temp)\n",
    "plt.show()"
   ]
  },
  {
   "cell_type": "markdown",
   "metadata": {},
   "source": [
    "Now, we correct the mistake that we found at AA test. Correctly implemented the change and make sure the engineering team all collaborate together to make sure the change is implemented correctly. \n",
    "\n",
    "We can conclude that the new version is better. "
   ]
  }
 ],
 "metadata": {
  "kernelspec": {
   "display_name": "Python 3",
   "language": "python",
   "name": "python3"
  },
  "language_info": {
   "codemirror_mode": {
    "name": "ipython",
    "version": 3
   },
   "file_extension": ".py",
   "mimetype": "text/x-python",
   "name": "python",
   "nbconvert_exporter": "python",
   "pygments_lexer": "ipython3",
   "version": "3.7.9"
  },
  "toc": {
   "base_numbering": 1,
   "nav_menu": {},
   "number_sections": true,
   "sideBar": true,
   "skip_h1_title": false,
   "title_cell": "Table of Contents",
   "title_sidebar": "Contents",
   "toc_cell": false,
   "toc_position": {},
   "toc_section_display": true,
   "toc_window_display": false
  }
 },
 "nbformat": 4,
 "nbformat_minor": 4
}
