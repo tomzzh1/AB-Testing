{
 "cells": [
  {
   "cell_type": "markdown",
   "metadata": {},
   "source": [
    "#### By setting up the random initial value, we can eliminate the number to explore and select the optimal bandit. \n",
    "\n",
    "#### we can properly estimate the probability each bandit. we can only estimate the optimal bandit, since we stopping exploring suboptimal bandit"
   ]
  },
  {
   "cell_type": "code",
   "execution_count": 1,
   "metadata": {},
   "outputs": [],
   "source": [
    "import matplotlib.pyplot as plt\n",
    "import numpy as np\n",
    "\n",
    "randint = 5\n",
    "\n",
    "class Bandit:\n",
    "    def __init__(self, p):\n",
    "        # p: the win rate\n",
    "        self.p = p\n",
    "        self.p_estimate = randint\n",
    "        self.initial_p = randint\n",
    "        self.N =  1\n",
    "\n",
    "    def pull(self):\n",
    "        # draw a 1 with probability p\n",
    "        return np.random.random() < self.p\n",
    "\n",
    "    def update(self, x):\n",
    "        # TODO\n",
    "        self.N += 1\n",
    "        self.p_estimate = ((self.N - 1)*self.p_estimate + x) / self.N\n"
   ]
  },
  {
   "cell_type": "code",
   "execution_count": 2,
   "metadata": {},
   "outputs": [],
   "source": [
    "NUM_TRIALS = 10000\n",
    "EPS = 0.1\n",
    "BANDIT_PROBABILITIES = [0.2, 0.5, 0.75]\n",
    "\n",
    "def experiment():\n",
    "    \n",
    "    bandits = [Bandit(p) for p in BANDIT_PROBABILITIES]\n",
    "\n",
    "    payments = [[],[],[]]\n",
    "    \n",
    "    rewards = np.zeros(NUM_TRIALS)\n",
    "    \n",
    "    for i in range(NUM_TRIALS):\n",
    "        \n",
    "        # use optimistic initial values to select the next bandit\n",
    "        j = np.argmax([b.p_estimate for b in bandits])\n",
    "\n",
    "        # pull the arm for the bandit with the largest sample\n",
    "        x = bandits[j].pull()\n",
    "\n",
    "        # update rewards log\n",
    "        rewards[i] = x\n",
    "        \n",
    "        payments[j].append(x)\n",
    "\n",
    "        # update the distribution for the bandit whose arm we just pulled\n",
    "        bandits[j].update(x)\n",
    "\n",
    "\n",
    "  # print mean estimates for each bandit\n",
    "    for idx, b in enumerate(bandits):\n",
    "        print(\"mean estimate:\", b.p_estimate)\n",
    "        print('initial estimate', b.initial_p)\n",
    "        # print total reward\n",
    "        print(\"total reward earned:\", sum(payments[idx]))\n",
    "        \n",
    "        print(\"overall win rate:\", sum(payments[idx]) / len(payments[idx]))\n",
    "        \n",
    "        print(\"num times selected each bandit:\", [b.N for b in bandits])\n",
    "\n",
    "        # plot the results\n",
    "        cumulative_rewards = np.cumsum(payments[idx])\n",
    "        \n",
    "        win_rates = cumulative_rewards / (np.arange(len(payments[idx])) + 1)\n",
    "        plt.ylim([0, 1])\n",
    "        plt.plot(win_rates)\n",
    "        plt.plot(np.ones(len(payments[idx]))*b.p)\n",
    "        plt.show()\n"
   ]
  },
  {
   "cell_type": "code",
   "execution_count": null,
   "metadata": {},
   "outputs": [],
   "source": []
  },
  {
   "cell_type": "code",
   "execution_count": 3,
   "metadata": {},
   "outputs": [
    {
     "name": "stdout",
     "output_type": "stream",
     "text": [
      "mean estimate: 0.6923076923076923\n",
      "initial estimate 5\n",
      "total reward earned: 4\n",
      "overall win rate: 0.3333333333333333\n",
      "num times selected each bandit: [13, 23, 9967]\n"
     ]
    },
    {
     "data": {
      "image/png": "[encoded data removed]",
      "text/plain": [
       "<Figure size 432x288 with 1 Axes>"
      ]
     },
     "metadata": {
      "needs_background": "light"
     },
     "output_type": "display_data"
    },
    {
     "name": "stdout",
     "output_type": "stream",
     "text": [
      "mean estimate: 0.6956521739130435\n",
      "initial estimate 5\n",
      "total reward earned: 11\n",
      "overall win rate: 0.5\n",
      "num times selected each bandit: [13, 23, 9967]\n"
     ]
    },
    {
     "data": {
      "image/png": "[encoded data removed]",
      "text/plain": [
       "<Figure size 432x288 with 1 Axes>"
      ]
     },
     "metadata": {
      "needs_background": "light"
     },
     "output_type": "display_data"
    },
    {
     "name": "stdout",
     "output_type": "stream",
     "text": [
      "mean estimate: 0.7482692886525543\n",
      "initial estimate 5\n",
      "total reward earned: 7453\n",
      "overall win rate: 0.7478426650612081\n",
      "num times selected each bandit: [13, 23, 9967]\n"
     ]
    },
    {
     "data": {
      "image/png": "[encoded data removed]",
      "text/plain": [
       "<Figure size 432x288 with 1 Axes>"
      ]
     },
     "metadata": {
      "needs_background": "light"
     },
     "output_type": "display_data"
    }
   ],
   "source": [
    "if __name__ == \"__main__\":\n",
    "    experiment()"
   ]
  }
 ],
 "metadata": {
  "kernelspec": {
   "display_name": "Python 3",
   "language": "python",
   "name": "python3"
  },
  "language_info": {
   "codemirror_mode": {
    "name": "ipython",
    "version": 3
   },
   "file_extension": ".py",
   "mimetype": "text/x-python",
   "name": "python",
   "nbconvert_exporter": "python",
   "pygments_lexer": "ipython3",
   "version": "3.7.9"
  },
  "toc": {
   "base_numbering": 1,
   "nav_menu": {},
   "number_sections": true,
   "sideBar": true,
   "skip_h1_title": false,
   "title_cell": "Table of Contents",
   "title_sidebar": "Contents",
   "toc_cell": false,
   "toc_position": {},
   "toc_section_display": true,
   "toc_window_display": false
  }
 },
 "nbformat": 4,
 "nbformat_minor": 4
}
